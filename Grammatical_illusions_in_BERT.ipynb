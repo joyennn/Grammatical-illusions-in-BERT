{
  "cells": [
    {
      "cell_type": "code",
      "execution_count": null,
      "metadata": {
        "colab": {
          "base_uri": "https://localhost:8080/"
        },
        "id": "Zg-uRvrSuHxm",
        "outputId": "433a4af0-ae5b-454c-94b1-bc8ed146ab9e"
      },
      "outputs": [
        {
          "output_type": "stream",
          "name": "stdout",
          "text": [
            "Looking in indexes: https://pypi.org/simple, https://us-python.pkg.dev/colab-wheels/public/simple/\n",
            "Requirement already satisfied: transformers in /usr/local/lib/python3.8/dist-packages (4.25.1)\n",
            "Requirement already satisfied: tqdm>=4.27 in /usr/local/lib/python3.8/dist-packages (from transformers) (4.64.1)\n",
            "Requirement already satisfied: tokenizers!=0.11.3,<0.14,>=0.11.1 in /usr/local/lib/python3.8/dist-packages (from transformers) (0.13.2)\n",
            "Requirement already satisfied: packaging>=20.0 in /usr/local/lib/python3.8/dist-packages (from transformers) (21.3)\n",
            "Requirement already satisfied: pyyaml>=5.1 in /usr/local/lib/python3.8/dist-packages (from transformers) (6.0)\n",
            "Requirement already satisfied: filelock in /usr/local/lib/python3.8/dist-packages (from transformers) (3.8.2)\n",
            "Requirement already satisfied: requests in /usr/local/lib/python3.8/dist-packages (from transformers) (2.23.0)\n",
            "Requirement already satisfied: numpy>=1.17 in /usr/local/lib/python3.8/dist-packages (from transformers) (1.21.6)\n",
            "Requirement already satisfied: huggingface-hub<1.0,>=0.10.0 in /usr/local/lib/python3.8/dist-packages (from transformers) (0.11.1)\n",
            "Requirement already satisfied: regex!=2019.12.17 in /usr/local/lib/python3.8/dist-packages (from transformers) (2022.6.2)\n",
            "Requirement already satisfied: typing-extensions>=3.7.4.3 in /usr/local/lib/python3.8/dist-packages (from huggingface-hub<1.0,>=0.10.0->transformers) (4.4.0)\n",
            "Requirement already satisfied: pyparsing!=3.0.5,>=2.0.2 in /usr/local/lib/python3.8/dist-packages (from packaging>=20.0->transformers) (3.0.9)\n",
            "Requirement already satisfied: chardet<4,>=3.0.2 in /usr/local/lib/python3.8/dist-packages (from requests->transformers) (3.0.4)\n",
            "Requirement already satisfied: certifi>=2017.4.17 in /usr/local/lib/python3.8/dist-packages (from requests->transformers) (2022.12.7)\n",
            "Requirement already satisfied: urllib3!=1.25.0,!=1.25.1,<1.26,>=1.21.1 in /usr/local/lib/python3.8/dist-packages (from requests->transformers) (1.24.3)\n",
            "Requirement already satisfied: idna<3,>=2.5 in /usr/local/lib/python3.8/dist-packages (from requests->transformers) (2.10)\n"
          ]
        }
      ],
      "source": [
        "!pip install transformers"
      ]
    },
    {
      "cell_type": "code",
      "execution_count": null,
      "metadata": {
        "id": "f5SfVYGPrmCr"
      },
      "outputs": [],
      "source": [
        "import numpy as np\n",
        "from transformers import BertTokenizer, BertForMaskedLM\n",
        "import torch"
      ]
    },
    {
      "cell_type": "code",
      "execution_count": null,
      "metadata": {
        "colab": {
          "base_uri": "https://localhost:8080/"
        },
        "id": "0I4YELF4ul-Z",
        "outputId": "b0e6b2a0-8e82-4ceb-ab66-711aad0c2b39"
      },
      "outputs": [
        {
          "output_type": "stream",
          "name": "stderr",
          "text": [
            "Some weights of the model checkpoint at bert-base-uncased were not used when initializing BertForMaskedLM: ['cls.seq_relationship.weight', 'cls.seq_relationship.bias']\n",
            "- This IS expected if you are initializing BertForMaskedLM from the checkpoint of a model trained on another task or with another architecture (e.g. initializing a BertForSequenceClassification model from a BertForPreTraining model).\n",
            "- This IS NOT expected if you are initializing BertForMaskedLM from the checkpoint of a model that you expect to be exactly identical (initializing a BertForSequenceClassification model from a BertForSequenceClassification model).\n"
          ]
        }
      ],
      "source": [
        "tokenizer = BertTokenizer.from_pretrained('bert-base-uncased')\n",
        "bert = BertForMaskedLM.from_pretrained('bert-base-uncased')\n",
        "ids2token = tokenizer.convert_ids_to_tokens\n",
        "token2ids = tokenizer.convert_tokens_to_ids\n",
        "token2string = tokenizer.convert_tokens_to_string"
      ]
    },
    {
      "cell_type": "code",
      "execution_count": null,
      "metadata": {
        "id": "LIKdwGjDldq5"
      },
      "outputs": [],
      "source": [
        "#Reading data\n",
        "def read_data(filename):\n",
        "  with open(filename, 'r', encoding='UTF-16') as f:\n",
        "    data = [line.split('\\t') for line in f.read().splitlines()]\n",
        "  return data\n",
        "\n",
        "data1 = read_data('ex1.txt')\n",
        "data2 = read_data('ex2.txt')\n",
        "data3 = read_data('ex3.txt')"
      ]
    },
    {
      "cell_type": "code",
      "execution_count": null,
      "metadata": {
        "id": "qG0fPFgZuCgU"
      },
      "outputs": [],
      "source": [
        "#Surprisals\n",
        "def calc_surp(seq,val):\n",
        "  seq = seq.detach().numpy()\n",
        "  val = val.detach().numpy()\n",
        "  exp_sum = sum(np.exp(seq))\n",
        "  portion = np.exp(val) / exp_sum\n",
        "  surp = - np.log(portion)\n",
        "  return portion, surp"
      ]
    },
    {
      "cell_type": "code",
      "execution_count": null,
      "metadata": {
        "id": "fT1t_92SuXDl"
      },
      "outputs": [],
      "source": [
        "#Probabilities\n",
        "def pair_prob_all(s1,arr,s2,mask,model):\n",
        "  inputs  = tokenizer(s1, return_tensors=\"pt\")\n",
        "  indice  = token2ids(arr)\n",
        "  inputs[\"input_ids\"] = torch.tensor([indice])\n",
        "  labels  = tokenizer(s2, return_tensors=\"pt\")[\"input_ids\"]\n",
        "  label = labels[0][int(mask)]\n",
        "  if len(inputs[\"input_ids\"][0]) == len(labels[0]):\n",
        "    outputs = model(**inputs, labels=labels)\n",
        "    loss    = outputs[0]\n",
        "    logits  = outputs[1]\n",
        "    probs   = logits[0][int(mask)]\n",
        "    prob    = logits[0][int(mask)][int(label)]\n",
        "    portion = calc_surp(probs,prob)[0]\n",
        "    surp    = calc_surp(probs,prob)[1]\n",
        "    return loss, logits, portion, surp\n",
        "  else:\n",
        "    return 0, 0, 0, 0\n"
      ]
    },
    {
      "cell_type": "code",
      "execution_count": null,
      "metadata": {
        "id": "AeAyuJ7WTnrb"
      },
      "outputs": [],
      "source": [
        "#Experiment\n",
        "def return_probability_all(corpus, model):\n",
        "  corpus_all = []\n",
        "  for i in range(len(corpus)):\n",
        "    indexed = tokenizer(corpus[i][2], return_tensors=\"pt\")[\"input_ids\"][0]\n",
        "    arr1_token = ids2token(indexed)\n",
        "\n",
        "\n",
        "    temp = []\n",
        "    temp.append(corpus[i][0])\n",
        "    temp.append(corpus[i][1])\n",
        "    temp.append(corpus[i][2])\n",
        "    temp.append(corpus[i][3])\n",
        "    temp.append(corpus[i][4])\n",
        "    temp.append(corpus[i][5])\n",
        "\n",
        "    \n",
        "    text1 = corpus[i][2].replace('[MASK]', corpus[i][3])\n",
        "    index = arr1_token.index('[MASK]')\n",
        "    loss, logits, portion, surp = pair_prob_all(corpus[i][2], arr1_token, text1, index, model)\n",
        "    if loss != 0:\n",
        "      scores = surp\n",
        "      temp.append(scores)\n",
        "    else:\n",
        "        scores = \"NA\"\n",
        "        temp.append(scores)\n",
        "      \n",
        "\n",
        "    corpus_all.append(temp)\n",
        "  return corpus_all"
      ]
    },
    {
      "cell_type": "code",
      "execution_count": null,
      "metadata": {
        "id": "FOzWJclNueHm"
      },
      "outputs": [],
      "source": [
        "#Result\n",
        "result1 = return_probability_all(data1, bert)\n",
        "result2 = return_probability_all(data2, bert)\n",
        "result3 = return_probability_all(data3, bert)"
      ]
    },
    {
      "cell_type": "code",
      "execution_count": null,
      "metadata": {
        "id": "ZnCc_U2Du03C"
      },
      "outputs": [],
      "source": [
        "#Save\n",
        "file1 = open('result1.txt','w')\n",
        "file2 = open('result2.txt','w')\n",
        "file3 = open('result3.txt','w')\n",
        "\n",
        "def write_cases(corpus,wfiles):\n",
        "    for i in range(len(corpus)):\n",
        "        for j in range(len(corpus[i])):\n",
        "            wfiles.write(str(corpus[i][j])+'\\t')\n",
        "            if j == len(corpus[i])-1:\n",
        "                wfiles.write('\\n')\n",
        "\n",
        "write_cases(result1,file1)\n",
        "write_cases(result2,file2)\n",
        "write_cases(result3,file3)"
      ]
    }
  ],
  "metadata": {
    "colab": {
      "provenance": [],
      "authorship_tag": "ABX9TyNPS2uuWqa1/d6rTLDLh/Cr"
    },
    "kernelspec": {
      "display_name": "Python 3",
      "name": "python3"
    },
    "language_info": {
      "name": "python"
    }
  },
  "nbformat": 4,
  "nbformat_minor": 0
}